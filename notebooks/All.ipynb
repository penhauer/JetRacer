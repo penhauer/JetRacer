{
 "cells": [
  {
   "cell_type": "code",
   "execution_count": null,
   "id": "66462455",
   "metadata": {},
   "outputs": [],
   "source": [
    "import ipywidgets.widgets as widgets\n",
    "\n",
    "controller = widgets.Controller(index=0)  # replace with index of your controller\n",
    "\n",
    "display(controller)"
   ]
  },
  {
   "cell_type": "code",
   "execution_count": null,
   "id": "4d09d9ff",
   "metadata": {},
   "outputs": [],
   "source": [
    "from jetracer.nvidia_racecar import NvidiaRacecar\n",
    "import traitlets\n",
    "\n",
    "\n",
    "car = NvidiaRacecar()\n",
    "\n",
    "car.throttle_gain = 0.2\n",
    "car.steering_offset=0.3\n",
    "car.steering = 0\n",
    "left_link = traitlets.dlink((controller.axes[2], 'value'), (car, 'steering'), transform=lambda x: x)\n",
    "right_link = traitlets.dlink((controller.axes[1], 'value'), (car, 'throttle'), transform=lambda x: -x)"
   ]
  },
  {
   "cell_type": "code",
   "execution_count": null,
   "id": "10adeae0",
   "metadata": {},
   "outputs": [],
   "source": [
    "from jetcam.csi_camera import CSICamera\n",
    "\n",
    "\n",
    "import ipywidgets\n",
    "from IPython.display import display\n",
    "from jetcam.utils import bgr8_to_jpeg\n",
    "\n",
    "\n",
    "import cv2 \n",
    "def make_larger(image):\n",
    "    # Get the original dimensions of the image\n",
    "    original_height, original_width = image.shape[:2]\n",
    "    # Calculate the new dimensions (double the size)\n",
    "    new_dimensions = (int(original_width * 1.5), int(original_height * 1.5))\n",
    "    # Resize the image\n",
    "    larger_image = cv2.resize(image, new_dimensions, interpolation=cv2.INTER_LINEAR)\n",
    "    return larger_image\n",
    "\n",
    "    \n",
    "    \n",
    "\n",
    "\n",
    "camera = CSICamera(width=224, height=224)\n",
    "\n",
    "image = camera.read()\n",
    "\n",
    "image_widget = ipywidgets.Image(format='jpeg')\n",
    "\n",
    "image_widget.value = bgr8_to_jpeg(make_larger(image))\n",
    "\n",
    "display(image_widget)"
   ]
  },
  {
   "cell_type": "code",
   "execution_count": null,
   "id": "1e84cb10",
   "metadata": {},
   "outputs": [],
   "source": [
    "camera.running = True\n",
    "\n",
    "def update_image(change):\n",
    "    image = change['new']\n",
    "    image_widget.value = bgr8_to_jpeg(make_larger(image))\n",
    "    \n",
    "camera.observe(update_image, names='value')"
   ]
  }
 ],
 "metadata": {
  "kernelspec": {
   "display_name": "Python 3",
   "language": "python",
   "name": "python3"
  },
  "language_info": {
   "codemirror_mode": {
    "name": "ipython",
    "version": 3
   },
   "file_extension": ".py",
   "mimetype": "text/x-python",
   "name": "python",
   "nbconvert_exporter": "python",
   "pygments_lexer": "ipython3",
   "version": "3.6.9"
  }
 },
 "nbformat": 4,
 "nbformat_minor": 5
}
